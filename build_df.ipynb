{
 "cells": [
  {
   "cell_type": "code",
   "execution_count": 1,
   "metadata": {},
   "outputs": [],
   "source": [
    "# imports\n",
    "from pickle import TRUE\n",
    "import pandas as pd\n",
    "import requests\n",
    "import time\n",
    "import warnings\n",
    "from selenium.webdriver.common.by import By\n",
    "from selenium import webdriver\n",
    "from selenium.webdriver.chrome.service import Service\n",
    "from webdriver_manager.chrome import ChromeDriverManager\n",
    "from selenium.webdriver.support.ui import Select\n",
    "import base64\n",
    "from io import StringIO\n",
    "import creds\n",
    "import numpy as np\n",
    "\n",
    "\n",
    "warnings.filterwarnings(\"ignore\")"
   ]
  },
  {
   "cell_type": "code",
   "execution_count": 2,
   "metadata": {},
   "outputs": [],
   "source": [
    "\n",
    "# Function to push DataFrame to GitHub\n",
    "def push_dataframe_to_github(dataframe, file_name, repository):\n",
    "    # Convert DataFrame to CSV in-memory\n",
    "    csv_data = StringIO()\n",
    "    dataframe.to_csv(csv_data, index=False)\n",
    "    csv_content = csv_data.getvalue()\n",
    "\n",
    "    # Encode content to Base64\n",
    "    encoded_content = base64.b64encode(csv_content.encode()).decode()\n",
    "\n",
    "    # Check if the file exists\n",
    "    url_get = f'https://api.github.com/repos/{username}/{repository}/contents/{file_name}'\n",
    "    headers_get = {'Authorization': f'token {creds.token}'}\n",
    "\n",
    "    response_get = requests.get(url_get, headers=headers_get)\n",
    "    response_get_json = response_get.json()\n",
    "\n",
    "    # Extract the SHA from the response\n",
    "    current_sha = response_get_json.get('sha')\n",
    "\n",
    "    # Push data directly to GitHub using GitHub API\n",
    "    url_put = f'https://api.github.com/repos/{username}/{repository}/contents/{file_name}'\n",
    "    headers_put = {\n",
    "        'Authorization': f'token {creds.token}',\n",
    "        'Content-Type': 'application/json'\n",
    "    }\n",
    "\n",
    "    data_put = {\n",
    "        'message': f'Update {file_name}',\n",
    "        'content': encoded_content\n",
    "    }\n",
    "\n",
    "    # If the file exists, update it; otherwise, create it\n",
    "    if current_sha is not None:\n",
    "        data_put['sha'] = current_sha\n",
    "\n",
    "    response_put = requests.put(url_put, headers=headers_put, json=data_put)\n",
    "\n",
    "    if response_put.status_code == 200:\n",
    "        print(f'Data pushed to {file_name} on GitHub successfully!')\n",
    "    elif response_put.status_code == 201:\n",
    "        print(f'{file_name} created on GitHub successfully!')\n",
    "    else:\n",
    "        print(f'Error: {response_put.status_code}, {response_put.text}')\n",
    "\n",
    "# GitHub repository details\n",
    "username = 'alanhassan'\n",
    "repository = 'stocks_panel'"
   ]
  },
  {
   "cell_type": "markdown",
   "metadata": {},
   "source": [
    "## df_nome"
   ]
  },
  {
   "cell_type": "code",
   "execution_count": 3,
   "metadata": {},
   "outputs": [],
   "source": [
    "service=Service(ChromeDriverManager().install())\n",
    "\n",
    "# Instanciando o Objeto ChromeOptions\n",
    "options = webdriver.ChromeOptions()\n",
    "\n",
    "# Passando algumas opções para esse ChromeOptions\n",
    "options.add_argument('--headless')\n",
    "options.add_argument('--no-sandbox')\n",
    "options.add_argument('--disable-dev-shm-usage')\n",
    "\n",
    "# Criação do WebDriver do Chrome\n",
    "wd_Chrome = webdriver.Chrome(service=service, options=options)"
   ]
  },
  {
   "cell_type": "code",
   "execution_count": 4,
   "metadata": {},
   "outputs": [],
   "source": [
    "wd_Chrome.get(\"https://www.fundamentus.com.br/\")\n",
    "\n",
    "wd_Chrome.find_element('xpath', '/html/body/div[1]/div[1]/form/fieldset/input[2]').click()\n",
    "\n",
    "table_element = wd_Chrome.find_element('id', 'test1')\n",
    "\n",
    "# Get the HTML content of the table\n",
    "table_html = table_element.get_attribute('outerHTML')\n",
    "\n",
    "# Use Pandas to read the HTML and create a DataFrame\n",
    "df_nome = pd.read_html(table_html)[0]\n",
    "\n",
    "# Close the browser\n",
    "wd_Chrome.quit()"
   ]
  },
  {
   "cell_type": "markdown",
   "metadata": {},
   "source": [
    "## df_setor"
   ]
  },
  {
   "cell_type": "code",
   "execution_count": 5,
   "metadata": {},
   "outputs": [],
   "source": [
    "service=Service(ChromeDriverManager().install())\n",
    "\n",
    "# Instanciando o Objeto ChromeOptions\n",
    "options = webdriver.ChromeOptions()\n",
    "\n",
    "# Passando algumas opções para esse ChromeOptions\n",
    "options.add_argument('--headless')\n",
    "options.add_argument('--no-sandbox')\n",
    "options.add_argument('--disable-dev-shm-usage')\n",
    "\n",
    "# Criação do WebDriver do Chrome\n",
    "wd_Chrome = webdriver.Chrome(service=service, options=options)\n",
    "\n",
    "wd_Chrome.get(\"https://www.fundamentus.com.br/\")\n",
    "\n",
    "\n",
    "wd_Chrome.find_element('xpath', '/html/body/div[1]/div[1]/div[1]/span/a[1]').click()"
   ]
  },
  {
   "cell_type": "code",
   "execution_count": 6,
   "metadata": {},
   "outputs": [],
   "source": [
    "# Find the dropdown element by its name attribute\n",
    "dropdown_element = wd_Chrome.find_element('name', 'setor')\n",
    "\n",
    "# Create a Select object to interact with the dropdown\n",
    "select = Select(dropdown_element)\n",
    "\n",
    "# Get all available options in the dropdown\n",
    "all_options = select.options\n",
    "\n",
    "# Get the total number of options\n",
    "num_options = len(all_options)"
   ]
  },
  {
   "cell_type": "code",
   "execution_count": 7,
   "metadata": {},
   "outputs": [
    {
     "name": "stdout",
     "output_type": "stream",
     "text": [
      "1\n",
      "2\n",
      "3\n",
      "4\n",
      "5\n",
      "6\n",
      "7\n",
      "8\n",
      "9\n",
      "10\n",
      "11\n",
      "12\n",
      "13\n",
      "14\n",
      "15\n",
      "16\n",
      "17\n",
      "18\n",
      "19\n",
      "20\n",
      "21\n",
      "22\n",
      "23\n",
      "24\n",
      "25\n",
      "26\n",
      "27\n",
      "28\n",
      "29\n",
      "30\n",
      "31\n",
      "32\n",
      "33\n",
      "34\n",
      "35\n",
      "36\n",
      "37\n",
      "38\n",
      "39\n",
      "40\n",
      "41\n",
      "42\n",
      "43\n"
     ]
    }
   ],
   "source": [
    "# Create an empty DataFrame to store the results\n",
    "result_df = pd.DataFrame(columns=['Papel', 'Setor'])\n",
    "\n",
    "for i in range(1, num_options):\n",
    "    wd_Chrome.get(\"https://www.fundamentus.com.br/\")\n",
    "\n",
    "    wd_Chrome.find_element('xpath', '/html/body/div[1]/div[1]/div[1]/span/a[1]').click()\n",
    "\n",
    "    dropdown_element = wd_Chrome.find_element('name', 'setor')\n",
    "\n",
    "    select = Select(dropdown_element)\n",
    "\n",
    "    select.select_by_index(i)\n",
    "\n",
    "    setor = select.first_selected_option.text\n",
    "\n",
    "    wd_Chrome.find_element('xpath', '/html/body/div[1]/div[2]/form/input').click()\n",
    "\n",
    "    table_element = wd_Chrome.find_element('id', 'resultado')\n",
    "\n",
    "    table_html = table_element.get_attribute('outerHTML')\n",
    "\n",
    "    df = pd.read_html(table_html)[0]\n",
    "\n",
    "    df_setor = df[['Papel']].copy()\n",
    "    df_setor['Setor'] = setor\n",
    "\n",
    "    # Append the current iteration's DataFrame to the result DataFrame\n",
    "    result_df = pd.concat([result_df, df_setor], ignore_index=True)\n",
    "\n",
    "    print(i)\n",
    "\n",
    "    time.sleep(2)\n",
    "\n",
    "# Close the browser\n",
    "wd_Chrome.quit()\n",
    "\n",
    "df_setor = result_df"
   ]
  },
  {
   "cell_type": "markdown",
   "metadata": {},
   "source": [
    "## df"
   ]
  },
  {
   "cell_type": "code",
   "execution_count": 8,
   "metadata": {},
   "outputs": [],
   "source": [
    "service=Service(ChromeDriverManager().install())\n",
    "\n",
    "# Instanciando o Objeto ChromeOptions\n",
    "options = webdriver.ChromeOptions()\n",
    "\n",
    "# Passando algumas opções para esse ChromeOptions\n",
    "options.add_argument('--headless')\n",
    "options.add_argument('--no-sandbox')\n",
    "options.add_argument('--disable-dev-shm-usage')\n",
    "\n",
    "# Criação do WebDriver do Chrome\n",
    "wd_Chrome = webdriver.Chrome(service=service, options=options)\n",
    "\n",
    "wd_Chrome.get(\"https://www.fundamentus.com.br/\")\n",
    "\n",
    "\n",
    "wd_Chrome.find_element('xpath', '/html/body/div[1]/div[1]/div[1]/span/a[1]').click()\n",
    "\n",
    "wd_Chrome.find_element('xpath', '/html/body/div[1]/div[2]/form/input').click()\n",
    "\n",
    "table_element = wd_Chrome.find_element('id', 'resultado')\n",
    "\n",
    "# Get the HTML content of the table\n",
    "table_html = table_element.get_attribute('outerHTML')\n",
    "\n",
    "# Use Pandas to read the HTML and create a DataFrame\n",
    "df = pd.read_html(table_html)[0]\n",
    "\n",
    "# Close the browser\n",
    "wd_Chrome.quit()"
   ]
  },
  {
   "cell_type": "code",
   "execution_count": 9,
   "metadata": {},
   "outputs": [],
   "source": [
    "# Assuming df is your DataFrame\n",
    "pd.set_option('display.float_format', lambda x: '{:,.2f}'.format(x).replace(',', '.'))\n",
    "\n",
    "# adjusting types\n",
    "\n",
    "df['P/L'] = df['P/L'].str.replace('[.,]', '', regex=True).astype(int)\n",
    "df['EV/EBITDA'] = df['EV/EBITDA'].str.replace('[.,]', '', regex=True).astype(int)\n",
    "df['P/VP'] = df['P/VP'].str.replace('[.,]', '', regex=True).astype(int)\n",
    "df['ROE'] = df['ROE'].str.replace('[.,%]', '', regex=True).astype(int)\n",
    "df['Div.Yield'] = df['Div.Yield'].str.replace('[.,%]', '', regex=True).astype(int)\n",
    "df['Cresc. Rec.5a'] = df['Cresc. Rec.5a'].str.replace('[.,%]', '', regex=True).astype(int)\n",
    "df['Patrim. Líq'] = df['Patrim. Líq'].str.replace('[.,]', '', regex=True).astype(np.int64)\n",
    "\n",
    "# adjusting columns\n",
    "\n",
    "df['Cotação'] = df['Cotação']/100\n",
    "df['P/L'] = df['P/L']/100\n",
    "df['EV/EBITDA'] = df['EV/EBITDA']/100\n",
    "df['P/VP'] = df['P/VP']/100\n",
    "df['ROE'] = df['ROE']/100\n",
    "df['Div.Yield'] = df['Div.Yield']/100\n",
    "df['Dív.Brut/ Patrim.'] = df['Dív.Brut/ Patrim.']/100\n",
    "df['Cresc. Rec.5a'] = df['Cresc. Rec.5a']/100\n",
    "df['Patrim. Líq'] = df['Patrim. Líq']/100"
   ]
  },
  {
   "cell_type": "code",
   "execution_count": 10,
   "metadata": {},
   "outputs": [],
   "source": [
    "df['prov'] = df['Papel'].str[:4]\n",
    "df.drop_duplicates(subset='prov', keep='first', inplace=True)\n",
    "df.drop(columns=['prov'], inplace=True)"
   ]
  },
  {
   "cell_type": "code",
   "execution_count": 11,
   "metadata": {},
   "outputs": [],
   "source": [
    "# Merging the DataFrames\n",
    "merged_df = pd.merge(df, df_nome[['Papel', 'Nome Comercial']], on='Papel')\n",
    "merged_df = pd.merge(merged_df, df_setor[['Papel', 'Setor']], on='Papel')"
   ]
  },
  {
   "cell_type": "code",
   "execution_count": 12,
   "metadata": {},
   "outputs": [],
   "source": [
    "df_final = merged_df[['Papel', 'Nome Comercial', 'Setor', 'Cotação', 'P/L', 'EV/EBITDA', 'P/VP', 'ROE', 'Div.Yield', 'Cresc. Rec.5a', 'Dív.Brut/ Patrim.', 'Patrim. Líq']]"
   ]
  },
  {
   "cell_type": "code",
   "execution_count": 17,
   "metadata": {},
   "outputs": [],
   "source": [
    "df = df_final\n",
    "df = df.rename(columns={'Nome Comercial': 'Empresa'})"
   ]
  },
  {
   "cell_type": "code",
   "execution_count": 18,
   "metadata": {},
   "outputs": [
    {
     "name": "stdout",
     "output_type": "stream",
     "text": [
      "Data pushed to df.csv on GitHub successfully!\n"
     ]
    }
   ],
   "source": [
    "# Push each DataFrame to GitHub\n",
    "push_dataframe_to_github(df, 'df.csv', repository)"
   ]
  }
 ],
 "metadata": {
  "kernelspec": {
   "display_name": "Python 3",
   "language": "python",
   "name": "python3"
  },
  "language_info": {
   "codemirror_mode": {
    "name": "ipython",
    "version": 3
   },
   "file_extension": ".py",
   "mimetype": "text/x-python",
   "name": "python",
   "nbconvert_exporter": "python",
   "pygments_lexer": "ipython3",
   "version": "3.12.0"
  }
 },
 "nbformat": 4,
 "nbformat_minor": 2
}
